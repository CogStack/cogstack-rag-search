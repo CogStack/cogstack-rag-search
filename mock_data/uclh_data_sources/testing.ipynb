{
 "cells": [
  {
   "cell_type": "code",
   "execution_count": 1,
   "metadata": {},
   "outputs": [],
   "source": [
    "#Import libraries\n",
    "import sqlite3\n",
    "import pandas as pd"
   ]
  },
  {
   "cell_type": "code",
   "execution_count": null,
   "metadata": {},
   "outputs": [],
   "source": [
    "#Datbase path\n",
    "db_path = \"mock_dbo.sqlite\""
   ]
  },
  {
   "cell_type": "code",
   "execution_count": null,
   "metadata": {},
   "outputs": [],
   "source": [
    "#Connect to the database\n",
    "conn = sqlite3.connect(db_path)\n",
    "cursor = conn.cursor()"
   ]
  },
  {
   "cell_type": "code",
   "execution_count": null,
   "metadata": {},
   "outputs": [
    {
     "name": "stdout",
     "output_type": "stream",
     "text": [
      "Tables in database:                                       name\n",
      "0                             AttributeDim\n",
      "1                                  DateDim\n",
      "2                       DiagnosisEventFact\n",
      "3                          FlowsheetRowDim\n",
      "4                           SocialFactorsX\n",
      "5                       BloodPressureFactX\n",
      "6           CancerStagingAttributeValueDim\n",
      "7                        CancerStagingFact\n",
      "8                             DiagnosisDim\n",
      "9                          DiagnosisSetDim\n",
      "10                 DiagnosisTerminologyDim\n",
      "11                             DurationDim\n",
      "12                             EdVisitFact\n",
      "13                           EncounterFact\n",
      "14                      FlowsheetValueFact\n",
      "15                   HospitalAdmissionFact\n",
      "16                             ImagingFact\n",
      "17                         LabComponentDim\n",
      "18                  LabComponentResultFact\n",
      "19              LabComponentResultTextFact\n",
      "20                             LabTestFact\n",
      "21            LdaFlowsheetUclhMappingFactX\n",
      "22                            LdaUclhFactX\n",
      "23  MedicationAdministrationComponentFactX\n",
      "24               MedicationCodeMappingDimX\n",
      "25                           MedicationDim\n",
      "26             MedicationOrderAllUclhFactX\n",
      "27                     MedicationOrderFact\n",
      "28             PatientCareRegistrationFact\n",
      "29                              PatientDim\n",
      "30                       PlaceOfServiceDim\n",
      "31                            ProcedureDim\n",
      "32                    ResusStatusUclhFactX\n",
      "33                        SurgicalCaseFact\n",
      "34                            TimeOfDayDim\n"
     ]
    }
   ],
   "source": [
    "#List all tables\n",
    "tables = pd.read_sql(\"SELECT name FROM sqlite_master WHERE type='table';\", conn)\n",
    "print(\"Tables in database:\", tables)"
   ]
  },
  {
   "cell_type": "code",
   "execution_count": 6,
   "metadata": {},
   "outputs": [
    {
     "data": {
      "text/html": [
       "<div>\n",
       "<style scoped>\n",
       "    .dataframe tbody tr th:only-of-type {\n",
       "        vertical-align: middle;\n",
       "    }\n",
       "\n",
       "    .dataframe tbody tr th {\n",
       "        vertical-align: top;\n",
       "    }\n",
       "\n",
       "    .dataframe thead th {\n",
       "        text-align: right;\n",
       "    }\n",
       "</style>\n",
       "<table border=\"1\" class=\"dataframe\">\n",
       "  <thead>\n",
       "    <tr style=\"text-align: right;\">\n",
       "      <th></th>\n",
       "      <th>DurableKey</th>\n",
       "      <th>AddressKey</th>\n",
       "      <th>Address</th>\n",
       "      <th>Sex</th>\n",
       "      <th>BirthDate</th>\n",
       "      <th>Ethnicity</th>\n",
       "      <th>IsCurrent</th>\n",
       "      <th>SmokingStatus</th>\n",
       "      <th>DeathInstant</th>\n",
       "      <th>PrimaryMrn</th>\n",
       "      <th>NhsNumber</th>\n",
       "      <th>AgeInYears</th>\n",
       "      <th>IsValid</th>\n",
       "    </tr>\n",
       "  </thead>\n",
       "  <tbody>\n",
       "    <tr>\n",
       "      <th>0</th>\n",
       "      <td>91</td>\n",
       "      <td>12.0</td>\n",
       "      <td>None</td>\n",
       "      <td>Male</td>\n",
       "      <td>1999-02-07</td>\n",
       "      <td>White British</td>\n",
       "      <td>1</td>\n",
       "      <td>Heavy Tobacco Smoker</td>\n",
       "      <td>NaN</td>\n",
       "      <td>12345678</td>\n",
       "      <td>999 123 4567</td>\n",
       "      <td>23</td>\n",
       "      <td>1</td>\n",
       "    </tr>\n",
       "    <tr>\n",
       "      <th>1</th>\n",
       "      <td>92</td>\n",
       "      <td>13.0</td>\n",
       "      <td>None</td>\n",
       "      <td>Female</td>\n",
       "      <td>2002-03-15</td>\n",
       "      <td>Chinese</td>\n",
       "      <td>1</td>\n",
       "      <td>Heavy Tobacco Smoker</td>\n",
       "      <td>NaN</td>\n",
       "      <td>987654321</td>\n",
       "      <td>999 124 5678</td>\n",
       "      <td>20</td>\n",
       "      <td>1</td>\n",
       "    </tr>\n",
       "    <tr>\n",
       "      <th>2</th>\n",
       "      <td>93</td>\n",
       "      <td>14.0</td>\n",
       "      <td>None</td>\n",
       "      <td>Male</td>\n",
       "      <td>1997-09-20</td>\n",
       "      <td>White British</td>\n",
       "      <td>1</td>\n",
       "      <td>Heavy Tobacco Smoker</td>\n",
       "      <td>315532800.0</td>\n",
       "      <td>54SR678/3</td>\n",
       "      <td>999 124 5679</td>\n",
       "      <td>25</td>\n",
       "      <td>1</td>\n",
       "    </tr>\n",
       "    <tr>\n",
       "      <th>3</th>\n",
       "      <td>94</td>\n",
       "      <td>NaN</td>\n",
       "      <td>None</td>\n",
       "      <td>Male</td>\n",
       "      <td>1900-01-01</td>\n",
       "      <td>White British</td>\n",
       "      <td>1</td>\n",
       "      <td>None</td>\n",
       "      <td>NaN</td>\n",
       "      <td>134567899</td>\n",
       "      <td>999 111 9999</td>\n",
       "      <td>122</td>\n",
       "      <td>1</td>\n",
       "    </tr>\n",
       "    <tr>\n",
       "      <th>4</th>\n",
       "      <td>95</td>\n",
       "      <td>NaN</td>\n",
       "      <td>'HMP Pentonville'</td>\n",
       "      <td>Male</td>\n",
       "      <td>1975-12-02</td>\n",
       "      <td>White British</td>\n",
       "      <td>1</td>\n",
       "      <td>None</td>\n",
       "      <td>NaN</td>\n",
       "      <td>5020765</td>\n",
       "      <td>999 124 1234</td>\n",
       "      <td>47</td>\n",
       "      <td>1</td>\n",
       "    </tr>\n",
       "  </tbody>\n",
       "</table>\n",
       "</div>"
      ],
      "text/plain": [
       "   DurableKey  AddressKey            Address     Sex   BirthDate  \\\n",
       "0          91        12.0               None    Male  1999-02-07   \n",
       "1          92        13.0               None  Female  2002-03-15   \n",
       "2          93        14.0               None    Male  1997-09-20   \n",
       "3          94         NaN               None    Male  1900-01-01   \n",
       "4          95         NaN  'HMP Pentonville'    Male  1975-12-02   \n",
       "\n",
       "       Ethnicity  IsCurrent         SmokingStatus  DeathInstant PrimaryMrn  \\\n",
       "0  White British          1  Heavy Tobacco Smoker           NaN   12345678   \n",
       "1        Chinese          1  Heavy Tobacco Smoker           NaN  987654321   \n",
       "2  White British          1  Heavy Tobacco Smoker   315532800.0  54SR678/3   \n",
       "3  White British          1                  None           NaN  134567899   \n",
       "4  White British          1                  None           NaN    5020765   \n",
       "\n",
       "      NhsNumber AgeInYears  IsValid  \n",
       "0  999 123 4567         23        1  \n",
       "1  999 124 5678         20        1  \n",
       "2  999 124 5679         25        1  \n",
       "3  999 111 9999        122        1  \n",
       "4  999 124 1234         47        1  "
      ]
     },
     "execution_count": 6,
     "metadata": {},
     "output_type": "execute_result"
    }
   ],
   "source": [
    "#Query a specific table\n",
    "table_name = \"PatientDim\"\n",
    "query = f\"SELECT * FROM {table_name} LIMIT 5;\"\n",
    "df = pd.read_sql(query, conn)\n",
    "\n",
    "#Show the data\n",
    "df"
   ]
  },
  {
   "cell_type": "code",
   "execution_count": 10,
   "metadata": {},
   "outputs": [
    {
     "name": "stdout",
     "output_type": "stream",
     "text": [
      "   EncounterKey  AdmissionDateKey  AgeKey\n",
      "0           912          20200101      16\n",
      "1           913          20200101      23\n",
      "2           915          20200101      45\n"
     ]
    }
   ],
   "source": [
    "#More complex query with a join\n",
    "query = \"\"\"\n",
    "SELECT a.EncounterKey, a.AdmissionDateKey, b.AgeKey\n",
    "FROM HospitalAdmissionFact a\n",
    "JOIN EncounterFact b ON a.EncounterKey = b.EncounterKey\n",
    "LIMIT 10;\n",
    "\"\"\"\n",
    "df = pd.read_sql(query, conn)\n",
    "print(df)"
   ]
  },
  {
   "cell_type": "code",
   "execution_count": null,
   "metadata": {},
   "outputs": [],
   "source": [
    "# Close the connection when done\n",
    "# conn.close()"
   ]
  }
 ],
 "metadata": {
  "kernelspec": {
   "display_name": "Python 3",
   "language": "python",
   "name": "python3"
  },
  "language_info": {
   "codemirror_mode": {
    "name": "ipython",
    "version": 3
   },
   "file_extension": ".py",
   "mimetype": "text/x-python",
   "name": "python",
   "nbconvert_exporter": "python",
   "pygments_lexer": "ipython3",
   "version": "3.9.8"
  }
 },
 "nbformat": 4,
 "nbformat_minor": 2
}
