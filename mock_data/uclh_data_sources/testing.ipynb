{
 "cells": [
  {
   "cell_type": "code",
   "execution_count": 1,
   "metadata": {},
   "outputs": [],
   "source": [
    "#Import libraries\n",
    "import sqlite3\n",
    "import pandas as pd"
   ]
  },
  {
   "cell_type": "code",
   "execution_count": 10,
   "metadata": {},
   "outputs": [],
   "source": [
    "#Datbase path\n",
    "db_path = \"mock_dbo.sqlite\""
   ]
  },
  {
   "cell_type": "code",
   "execution_count": 11,
   "metadata": {},
   "outputs": [],
   "source": [
    "#Connect to the database\n",
    "conn = sqlite3.connect(db_path)\n",
    "cursor = conn.cursor()"
   ]
  },
  {
   "cell_type": "code",
   "execution_count": 4,
   "metadata": {},
   "outputs": [
    {
     "name": "stdout",
     "output_type": "stream",
     "text": [
      "Tables in database:                                       name\n",
      "0                             AttributeDim\n",
      "1                                  DateDim\n",
      "2                       DiagnosisEventFact\n",
      "3                          FlowsheetRowDim\n",
      "4                           SocialFactorsX\n",
      "5                       BloodPressureFactX\n",
      "6           CancerStagingAttributeValueDim\n",
      "7                        CancerStagingFact\n",
      "8                             DiagnosisDim\n",
      "9                          DiagnosisSetDim\n",
      "10                 DiagnosisTerminologyDim\n",
      "11                             DurationDim\n",
      "12                             EdVisitFact\n",
      "13                           EncounterFact\n",
      "14                      FlowsheetValueFact\n",
      "15                   HospitalAdmissionFact\n",
      "16                             ImagingFact\n",
      "17                         LabComponentDim\n",
      "18                  LabComponentResultFact\n",
      "19              LabComponentResultTextFact\n",
      "20                             LabTestFact\n",
      "21            LdaFlowsheetUclhMappingFactX\n",
      "22                            LdaUclhFactX\n",
      "23  MedicationAdministrationComponentFactX\n",
      "24               MedicationCodeMappingDimX\n",
      "25                           MedicationDim\n",
      "26             MedicationOrderAllUclhFactX\n",
      "27                     MedicationOrderFact\n",
      "28             PatientCareRegistrationFact\n",
      "29                              PatientDim\n",
      "30                       PlaceOfServiceDim\n",
      "31                            ProcedureDim\n",
      "32                    ResusStatusUclhFactX\n",
      "33                        SurgicalCaseFact\n",
      "34                            TimeOfDayDim\n"
     ]
    }
   ],
   "source": [
    "#List all tables\n",
    "tables = pd.read_sql(\"SELECT name FROM sqlite_master WHERE type='table';\", conn)\n",
    "print(\"Tables in database:\", tables)"
   ]
  },
  {
   "cell_type": "code",
   "execution_count": 15,
   "metadata": {},
   "outputs": [
    {
     "data": {
      "text/html": [
       "<div>\n",
       "<style scoped>\n",
       "    .dataframe tbody tr th:only-of-type {\n",
       "        vertical-align: middle;\n",
       "    }\n",
       "\n",
       "    .dataframe tbody tr th {\n",
       "        vertical-align: top;\n",
       "    }\n",
       "\n",
       "    .dataframe thead th {\n",
       "        text-align: right;\n",
       "    }\n",
       "</style>\n",
       "<table border=\"1\" class=\"dataframe\">\n",
       "  <thead>\n",
       "    <tr style=\"text-align: right;\">\n",
       "      <th></th>\n",
       "      <th>HospitalAdmissionKey</th>\n",
       "      <th>EncounterKey</th>\n",
       "      <th>PatientDurableKey</th>\n",
       "      <th>AdmissionDateKey</th>\n",
       "      <th>AdmissionTimeOfDayKey</th>\n",
       "      <th>DischargeDisposition</th>\n",
       "      <th>AdmissionSourceId_X</th>\n",
       "      <th>DischargeDestinationId_X</th>\n",
       "    </tr>\n",
       "  </thead>\n",
       "  <tbody>\n",
       "    <tr>\n",
       "      <th>0</th>\n",
       "      <td>1</td>\n",
       "      <td>912</td>\n",
       "      <td>91</td>\n",
       "      <td>20200101</td>\n",
       "      <td>13</td>\n",
       "      <td>None</td>\n",
       "      <td>54</td>\n",
       "      <td>10</td>\n",
       "    </tr>\n",
       "    <tr>\n",
       "      <th>1</th>\n",
       "      <td>2</td>\n",
       "      <td>913</td>\n",
       "      <td>91</td>\n",
       "      <td>20200101</td>\n",
       "      <td>54</td>\n",
       "      <td>Patient Died</td>\n",
       "      <td>54</td>\n",
       "      <td>10</td>\n",
       "    </tr>\n",
       "    <tr>\n",
       "      <th>2</th>\n",
       "      <td>3</td>\n",
       "      <td>915</td>\n",
       "      <td>91</td>\n",
       "      <td>20200101</td>\n",
       "      <td>643</td>\n",
       "      <td>None</td>\n",
       "      <td>62</td>\n",
       "      <td>10</td>\n",
       "    </tr>\n",
       "  </tbody>\n",
       "</table>\n",
       "</div>"
      ],
      "text/plain": [
       "   HospitalAdmissionKey  EncounterKey  PatientDurableKey  AdmissionDateKey  \\\n",
       "0                     1           912                 91          20200101   \n",
       "1                     2           913                 91          20200101   \n",
       "2                     3           915                 91          20200101   \n",
       "\n",
       "   AdmissionTimeOfDayKey DischargeDisposition AdmissionSourceId_X  \\\n",
       "0                     13                 None                  54   \n",
       "1                     54         Patient Died                  54   \n",
       "2                    643                 None                  62   \n",
       "\n",
       "  DischargeDestinationId_X  \n",
       "0                       10  \n",
       "1                       10  \n",
       "2                       10  "
      ]
     },
     "execution_count": 15,
     "metadata": {},
     "output_type": "execute_result"
    }
   ],
   "source": [
    "#Query a specific table\n",
    "table_name = \"HospitalAdmissionFact\"\n",
    "query = f\"SELECT * FROM {table_name} LIMIT 5;\"\n",
    "df = pd.read_sql(query, conn)\n",
    "\n",
    "#Show the data\n",
    "df"
   ]
  },
  {
   "cell_type": "code",
   "execution_count": 16,
   "metadata": {},
   "outputs": [
    {
     "name": "stdout",
     "output_type": "stream",
     "text": [
      "   EncounterKey  AdmissionDateKey  AgeKey\n",
      "0           912          20200101      16\n",
      "1           913          20200101      23\n",
      "2           915          20200101      45\n"
     ]
    }
   ],
   "source": [
    "#More complex query with a join\n",
    "query = \"\"\"\n",
    "SELECT a.EncounterKey, a.AdmissionDateKey, b.AgeKey\n",
    "FROM HospitalAdmissionFact a\n",
    "JOIN EncounterFact b ON a.EncounterKey = b.EncounterKey\n",
    "LIMIT 10;\n",
    "\"\"\"\n",
    "df = pd.read_sql(query, conn)\n",
    "print(df)"
   ]
  },
  {
   "cell_type": "code",
   "execution_count": 17,
   "metadata": {},
   "outputs": [],
   "source": [
    "# Close the connection when done\n",
    "conn.close()"
   ]
  }
 ],
 "metadata": {
  "kernelspec": {
   "display_name": "Python 3",
   "language": "python",
   "name": "python3"
  },
  "language_info": {
   "codemirror_mode": {
    "name": "ipython",
    "version": 3
   },
   "file_extension": ".py",
   "mimetype": "text/x-python",
   "name": "python",
   "nbconvert_exporter": "python",
   "pygments_lexer": "ipython3",
   "version": "3.9.8"
  }
 },
 "nbformat": 4,
 "nbformat_minor": 2
}
