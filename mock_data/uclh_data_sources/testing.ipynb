{
 "cells": [
  {
   "cell_type": "code",
   "execution_count": 1,
   "metadata": {},
   "outputs": [],
   "source": [
    "#Import libraries\n",
    "import sqlite3\n",
    "import pandas as pd"
   ]
  },
  {
   "cell_type": "code",
   "execution_count": 2,
   "metadata": {},
   "outputs": [],
   "source": [
    "#Datbase path\n",
    "db_path = \"mock_dbo.sqlite\""
   ]
  },
  {
   "cell_type": "code",
   "execution_count": 3,
   "metadata": {},
   "outputs": [],
   "source": [
    "#Connect to the database\n",
    "conn = sqlite3.connect(db_path)\n",
    "cursor = conn.cursor()"
   ]
  },
  {
   "cell_type": "code",
   "execution_count": 4,
   "metadata": {},
   "outputs": [
    {
     "name": "stdout",
     "output_type": "stream",
     "text": [
      "Tables in database:                                       name\n",
      "0                             AttributeDim\n",
      "1                                  DateDim\n",
      "2                       DiagnosisEventFact\n",
      "3                          FlowsheetRowDim\n",
      "4                           SocialFactorsX\n",
      "5                       BloodPressureFactX\n",
      "6           CancerStagingAttributeValueDim\n",
      "7                        CancerStagingFact\n",
      "8                             DiagnosisDim\n",
      "9                          DiagnosisSetDim\n",
      "10                 DiagnosisTerminologyDim\n",
      "11                             DurationDim\n",
      "12                             EdVisitFact\n",
      "13                           EncounterFact\n",
      "14                      FlowsheetValueFact\n",
      "15                   HospitalAdmissionFact\n",
      "16                             ImagingFact\n",
      "17                         LabComponentDim\n",
      "18                  LabComponentResultFact\n",
      "19              LabComponentResultTextFact\n",
      "20                             LabTestFact\n",
      "21            LdaFlowsheetUclhMappingFactX\n",
      "22                            LdaUclhFactX\n",
      "23  MedicationAdministrationComponentFactX\n",
      "24               MedicationCodeMappingDimX\n",
      "25                           MedicationDim\n",
      "26             MedicationOrderAllUclhFactX\n",
      "27                     MedicationOrderFact\n",
      "28             PatientCareRegistrationFact\n",
      "29                              PatientDim\n",
      "30                       PlaceOfServiceDim\n",
      "31                            ProcedureDim\n",
      "32                    ResusStatusUclhFactX\n",
      "33                        SurgicalCaseFact\n",
      "34                            TimeOfDayDim\n"
     ]
    }
   ],
   "source": [
    "#List all tables\n",
    "tables = pd.read_sql(\"SELECT name FROM sqlite_master WHERE type='table';\", conn)\n",
    "print(\"Tables in database:\", tables)"
   ]
  },
  {
   "cell_type": "code",
   "execution_count": 6,
   "metadata": {},
   "outputs": [
    {
     "data": {
      "text/html": [
       "<div>\n",
       "<style scoped>\n",
       "    .dataframe tbody tr th:only-of-type {\n",
       "        vertical-align: middle;\n",
       "    }\n",
       "\n",
       "    .dataframe tbody tr th {\n",
       "        vertical-align: top;\n",
       "    }\n",
       "\n",
       "    .dataframe thead th {\n",
       "        text-align: right;\n",
       "    }\n",
       "</style>\n",
       "<table border=\"1\" class=\"dataframe\">\n",
       "  <thead>\n",
       "    <tr style=\"text-align: right;\">\n",
       "      <th></th>\n",
       "      <th>PatientDurableKey</th>\n",
       "      <th>FirstProcedureKey</th>\n",
       "      <th>AccessionNumber</th>\n",
       "      <th>OrderingDateKey</th>\n",
       "      <th>IsAbnormal</th>\n",
       "      <th>PerformingEncounterKey</th>\n",
       "      <th>ExamStartDateKey</th>\n",
       "      <th>ExamStartInstant</th>\n",
       "    </tr>\n",
       "  </thead>\n",
       "  <tbody>\n",
       "    <tr>\n",
       "      <th>0</th>\n",
       "      <td>91</td>\n",
       "      <td>1001</td>\n",
       "      <td>12345678</td>\n",
       "      <td>20210601</td>\n",
       "      <td>0</td>\n",
       "      <td>100010</td>\n",
       "      <td>20210701.0</td>\n",
       "      <td>2021-07-01 09:15:00</td>\n",
       "    </tr>\n",
       "    <tr>\n",
       "      <th>1</th>\n",
       "      <td>91</td>\n",
       "      <td>1002</td>\n",
       "      <td>ABC1234567</td>\n",
       "      <td>20210601</td>\n",
       "      <td>0</td>\n",
       "      <td>100011</td>\n",
       "      <td>20210701.0</td>\n",
       "      <td>2021-07-01 13:00:00</td>\n",
       "    </tr>\n",
       "    <tr>\n",
       "      <th>2</th>\n",
       "      <td>92</td>\n",
       "      <td>1003</td>\n",
       "      <td>ABC1234560</td>\n",
       "      <td>20200521</td>\n",
       "      <td>0</td>\n",
       "      <td>100012</td>\n",
       "      <td>20200501.0</td>\n",
       "      <td>2020-05-01 14:30:13</td>\n",
       "    </tr>\n",
       "    <tr>\n",
       "      <th>3</th>\n",
       "      <td>95</td>\n",
       "      <td>1003</td>\n",
       "      <td>MIG0234560</td>\n",
       "      <td>20150521</td>\n",
       "      <td>0</td>\n",
       "      <td>-1</td>\n",
       "      <td>20150501.0</td>\n",
       "      <td>2015-05-01 14:30:13</td>\n",
       "    </tr>\n",
       "    <tr>\n",
       "      <th>4</th>\n",
       "      <td>92</td>\n",
       "      <td>1010</td>\n",
       "      <td>AA12345601</td>\n",
       "      <td>20200522</td>\n",
       "      <td>0</td>\n",
       "      <td>100110</td>\n",
       "      <td>20200523.0</td>\n",
       "      <td>2020-05-23 14:31:11</td>\n",
       "    </tr>\n",
       "  </tbody>\n",
       "</table>\n",
       "</div>"
      ],
      "text/plain": [
       "   PatientDurableKey  FirstProcedureKey AccessionNumber    OrderingDateKey    \\\n",
       "0                 91               1001          12345678           20210601   \n",
       "1                 91               1002        ABC1234567           20210601   \n",
       "2                 92               1003        ABC1234560           20200521   \n",
       "3                 95               1003        MIG0234560           20150521   \n",
       "4                 92               1010        AA12345601           20200522   \n",
       "\n",
       "   IsAbnormal  PerformingEncounterKey  ExamStartDateKey     ExamStartInstant  \n",
       "0           0                  100010        20210701.0  2021-07-01 09:15:00  \n",
       "1           0                  100011        20210701.0  2021-07-01 13:00:00  \n",
       "2           0                  100012        20200501.0  2020-05-01 14:30:13  \n",
       "3           0                      -1        20150501.0  2015-05-01 14:30:13  \n",
       "4           0                  100110        20200523.0  2020-05-23 14:31:11  "
      ]
     },
     "execution_count": 6,
     "metadata": {},
     "output_type": "execute_result"
    }
   ],
   "source": [
    "#Query a specific table\n",
    "table_name = \"ImagingFact\"\n",
    "query = f\"SELECT * FROM {table_name} LIMIT 5;\"\n",
    "df = pd.read_sql(query, conn)\n",
    "\n",
    "#Show the data\n",
    "df"
   ]
  },
  {
   "cell_type": "code",
   "execution_count": 7,
   "metadata": {},
   "outputs": [
    {
     "name": "stdout",
     "output_type": "stream",
     "text": [
      "   EncounterKey  AdmissionDateKey  AgeKey\n",
      "0           912          20200101      16\n",
      "1           913          20200101      23\n",
      "2           915          20200101      45\n"
     ]
    }
   ],
   "source": [
    "#More complex query with a join\n",
    "query = \"\"\"\n",
    "SELECT a.EncounterKey, a.AdmissionDateKey, b.AgeKey\n",
    "FROM HospitalAdmissionFact a\n",
    "JOIN EncounterFact b ON a.EncounterKey = b.EncounterKey\n",
    "LIMIT 10;\n",
    "\"\"\"\n",
    "df = pd.read_sql(query, conn)\n",
    "print(df)"
   ]
  },
  {
   "cell_type": "code",
   "execution_count": 8,
   "metadata": {},
   "outputs": [],
   "source": [
    "# Close the connection when done\n",
    "conn.close()"
   ]
  }
 ],
 "metadata": {
  "kernelspec": {
   "display_name": "Python 3",
   "language": "python",
   "name": "python3"
  },
  "language_info": {
   "codemirror_mode": {
    "name": "ipython",
    "version": 3
   },
   "file_extension": ".py",
   "mimetype": "text/x-python",
   "name": "python",
   "nbconvert_exporter": "python",
   "pygments_lexer": "ipython3",
   "version": "3.9.8"
  }
 },
 "nbformat": 4,
 "nbformat_minor": 2
}
